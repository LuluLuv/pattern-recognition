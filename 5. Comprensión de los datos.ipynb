{
 "cells": [
  {
   "cell_type": "markdown",
   "metadata": {},
   "source": [
    "![](images/header_05.png)<br>"
   ]
  },
  {
   "cell_type": "markdown",
   "metadata": {},
   "source": [
    "## Usabilidad de los datos\n",
    "\n",
    "Los datos son la base de la nueva economía de la información y cada día se incrementa su volumen. Para el año 2020 se espera que hayamos superado el zettabyte de datos producidos por día (1 ZB = 10<sup>21</sup> bytes = 10<sup>9</sup> TB... mh! almacenados en discos SSD de 1TB, en 45 días se formaría una torre de la tierra a la luna, suponiendo que son incompresibles). Estos datos son generados por sensores, GPSs, redes sociales, mensajes electrónicos, transacciones comerciales, publicaciones regulares, etc. ([aquí](https://www.grazitti.com/blog/top-10-big-data-facts-infographic/) un interesante *infográfico* al respecto). Este volumen de datos permite generar una gran cantidad de información para analizar virtualmente cualquier problema. Sin embargo, antes de poder explotar la información contenida en ellos y antes de poder generar conocimiento de utilidad para la toma de decisiones, es necesario garantizar que los datos se encuentren en 'buenas condiciones'. \n",
    "\n",
    "La comprensión de los datos se refiere a familiarizarse con las características de los datos disponibles para el proyecto y de los requerimientos adicionales de datos. Es una fase fundamental para el desarrollo del proyecto dado que ésta es la base de todas las actividades que se realizarán a continuación. Es por ello que, en ocasiones, será necesario regresar a analizar el negocio con el fin de comprender mejor los datos. En la comprensión de los daros, juega un papel fundamental la llamada *usabilidad de los datos*.\n",
    "\n",
    "La **usabilidad de los datos** es un término utilizado para especificar qué tan fácil es para el usuario, procesar y analizar un determinado conjunto de datos. Aunque la mayoría de las organizaciones cuenta con una gran cantidad de datos, tales datos a menudo están desorganizados, o no pueden ser analizados de manera efectiva para producir información útil para apoyar la toma de decisiones.\n",
    "\n",
    "Existen varias dimensiones para definir la usabilidad de los datos, entre las que se destacan las siguientes:\n",
    "\n",
    "* **[Relevancia](http://resources.boaweb.com/backoffice-blog/the-path-to-data-relevance)**: Se refiere al grado de consistencia entre el contenido de los datos y el área de interés del usuario.\n",
    "* **[Calidad](https://searchdatamanagement.techtarget.com/definition/data-quality)**: La calidad de los datos es una percepción o una evaluación de la idoneidad de los datos para cumplir su propósito en un contexto determinado. En muchas ocasiones, este concepto es el que se utiliza como \"paraguas\" que engloba otras características de los datos (como la relevancia).\n",
    "* **[Cobertura](https://stats.oecd.org/glossary/detail.asp?ID=464)** y **[granularidad](https://www.americanlaboratory.com/913-Technical-Articles/350602-Statistics-in-the-Laboratory-Significant-Digits-and-the-Granularity-of-Data/)**: Qué tan amplia es la exploración del universo de elementos y qué tan detallada es el análisis.\n",
    "* **[Accesibilidad](https://amplitude.com/data-accessibility)** y **[documentación](https://www.wur.nl/en/Value-Creation-Cooperation/WDCC/Data-Management-WDCC/Doing/Data-Documentation.htm)**: Facilidad para adquirir y procesar los datos e información acerca de cómo está conformada (nombres de las variables, su significado, especificaciones de su captura, etc.).\n",
    "* **Facilidad de análisis**: La capacidad para utilizar técnicas \"convencionales\" de procesamiento de datos.\n",
    "\n",
    "\n",
    "### Actividades en la comprensión de los datos\n",
    "\n",
    "Las actividades más utilizadas para la comprensión de los datos se encuentran las siguientes: \n",
    "\n",
    "* *Recolección inicial de datos*. En este primer paso, se toman muestras de los datos disponibles y se identifica el alcance, así como posibles dificultades para su recolección y uso. Se distinguen los datos propios de la empresa de otros conjuntos de datos complementarios adquiridos y se identifican las fuentes adicionales de datos.\n",
    "* *Descripción de los datos*. A continuación, se identifican las características generales de los datos, como son el número de variables disponibles, la cantidad de registros, la frecuencia de generación de cada variable, su identificación, el significado de cada campo y el formato inicial. El resultado más importante de este análisis preliminar es una determinación de si los datos disponibles son suficientes para alcanzar los objetivos de la minería de datos.\n",
    "* *Exploración de los datos*. El objetivo de esta actividad es identificar la distribución general de los datos a través de pruebas estadísticas básicas y establecer hipótesis preliminares. Este análisis permite identificar la complejidad del problema y realizar una selección preliminar de técnicas a utilizar.\n",
    "* *Verificación de la calidad de los datos*. En este paso se verifica la completitud  de los datos. Se buscan los porcentajes de datos incompletos, valores fuera de rango o no típicos y variables equivalentes. Se definen estrategias generales para resolver los problemas identificados.\n",
    "\n",
    "A continuación, se presenta la fase de comprensión de los datos para los casos de estudios planteados en la lección [3. Casos de estudio](3.%20Casos%20de%20estudio.ipynb)."
   ]
  },
  {
   "cell_type": "markdown",
   "metadata": {},
   "source": [
    "<hr style=\"border-width: 3px;\">\n",
    " \n",
    "## Conjunto de datos de flores Iris\n",
    "\n",
    "\n",
    "### <span style=\"color:#313f9e; font-weight: bold;\">Recolección inicial de datos:</span>\n",
    "\n",
    "Los datos que emplearemos en este caso  de estudio son los proporcionados por el módulo de conjuntos de datos de la biblioteca de *sklearn* de Python. \n",
    "\n",
    "\n",
    "### <span style=\"color:#313f9e; font-weight: bold;\">Descripción de los datos:</span>\n",
    "\n",
    "En su trabajo, Fisher utiliza un conjunto de 150 mediciones, 50 instancias de cada especie de planta. Cada instancia consta, a su vez de 4 características, medidas en centímetros: \n",
    "\n",
    "* Longitud del sépalo, \n",
    "* Anchura del sépalo \n",
    "* Longitud del pétalo, y \n",
    "* Anchura del pétalo\n",
    "\n",
    "La base de datos iris está disponible en diversos sitios en internet, destacándose el sitio [*UCI Machine Learning Repository*](http://archive.ics.uci.edu/ml) y el sitio de [Kaggle](https://www.kaggle.com). Así mismo, diversas bibliotecas incluyen esta base de datos para facilitar la realización de pruebas. En la siguiente celda se muestra el acceso a este conjunto de datos a través de la biblioteca *sklearn* de Pyhton."
   ]
  },
  {
   "cell_type": "code",
   "execution_count": 1,
   "metadata": {},
   "outputs": [],
   "source": [
    "# Importar las biblioteas necesarias \n",
    "import numpy as np \n",
    "import matplotlib.pyplot as plt\n",
    "import seaborn as sns\n",
    "import pandas as pd\n",
    "from sklearn import datasets\n",
    "from IPython.display import display\n",
    "\n",
    "sns.set(color_codes=True)\n",
    "%matplotlib inline\n",
    "\n",
    "# Cargar los datos desde la biblioteca de python\n",
    "iris_data = datasets.load_iris()"
   ]
  },
  {
   "cell_type": "markdown",
   "metadata": {},
   "source": [
    "Los conjuntos de datos de la biblioteca de datos en Python tienen una estructura de diccionario. Una mejor estructura para procesar los datos es el *Dataframe* de la biblioteca *Pandas*. A continuación se explora la estructura del diccionario y se crea un *dataframe* a partir de esos datos:"
   ]
  },
  {
   "cell_type": "code",
   "execution_count": 2,
   "metadata": {},
   "outputs": [
    {
     "name": "stdout",
     "output_type": "stream",
     "text": [
      "dict_keys(['data', 'target', 'target_names', 'DESCR', 'feature_names', 'filename'])\n"
     ]
    }
   ],
   "source": [
    "# Describir los campos del diccionario\n",
    "print(iris_data.keys())\n",
    "\n",
    "# Creación de un Dataframe\n",
    "iris_df= pd.DataFrame(data= np.c_[iris_data['data'], iris_data['target']],\n",
    "                 columns= iris_data['feature_names'] + ['target'])\n",
    "iris_df['species'] = pd.Categorical.from_codes(iris_data.target, \n",
    "                                               iris_data.target_names)"
   ]
  },
  {
   "cell_type": "markdown",
   "metadata": {},
   "source": [
    "El dataframe utiliza como base de su estructura una tabla. A continuación desplegamos el tamaño de esta tabla para el caso de las flores iris y una exploración de los primeros datos:"
   ]
  },
  {
   "cell_type": "code",
   "execution_count": 3,
   "metadata": {},
   "outputs": [
    {
     "name": "stdout",
     "output_type": "stream",
     "text": [
      "Tamaño de la tabla de datos: (150, 6)\n"
     ]
    },
    {
     "data": {
      "text/html": [
       "<div>\n",
       "<style scoped>\n",
       "    .dataframe tbody tr th:only-of-type {\n",
       "        vertical-align: middle;\n",
       "    }\n",
       "\n",
       "    .dataframe tbody tr th {\n",
       "        vertical-align: top;\n",
       "    }\n",
       "\n",
       "    .dataframe thead th {\n",
       "        text-align: right;\n",
       "    }\n",
       "</style>\n",
       "<table border=\"1\" class=\"dataframe\">\n",
       "  <thead>\n",
       "    <tr style=\"text-align: right;\">\n",
       "      <th></th>\n",
       "      <th>sepal length (cm)</th>\n",
       "      <th>sepal width (cm)</th>\n",
       "      <th>petal length (cm)</th>\n",
       "      <th>petal width (cm)</th>\n",
       "      <th>target</th>\n",
       "      <th>species</th>\n",
       "    </tr>\n",
       "  </thead>\n",
       "  <tbody>\n",
       "    <tr>\n",
       "      <th>0</th>\n",
       "      <td>5.1</td>\n",
       "      <td>3.5</td>\n",
       "      <td>1.4</td>\n",
       "      <td>0.2</td>\n",
       "      <td>0.0</td>\n",
       "      <td>setosa</td>\n",
       "    </tr>\n",
       "    <tr>\n",
       "      <th>1</th>\n",
       "      <td>4.9</td>\n",
       "      <td>3.0</td>\n",
       "      <td>1.4</td>\n",
       "      <td>0.2</td>\n",
       "      <td>0.0</td>\n",
       "      <td>setosa</td>\n",
       "    </tr>\n",
       "    <tr>\n",
       "      <th>2</th>\n",
       "      <td>4.7</td>\n",
       "      <td>3.2</td>\n",
       "      <td>1.3</td>\n",
       "      <td>0.2</td>\n",
       "      <td>0.0</td>\n",
       "      <td>setosa</td>\n",
       "    </tr>\n",
       "    <tr>\n",
       "      <th>3</th>\n",
       "      <td>4.6</td>\n",
       "      <td>3.1</td>\n",
       "      <td>1.5</td>\n",
       "      <td>0.2</td>\n",
       "      <td>0.0</td>\n",
       "      <td>setosa</td>\n",
       "    </tr>\n",
       "    <tr>\n",
       "      <th>4</th>\n",
       "      <td>5.0</td>\n",
       "      <td>3.6</td>\n",
       "      <td>1.4</td>\n",
       "      <td>0.2</td>\n",
       "      <td>0.0</td>\n",
       "      <td>setosa</td>\n",
       "    </tr>\n",
       "  </tbody>\n",
       "</table>\n",
       "</div>"
      ],
      "text/plain": [
       "   sepal length (cm)  sepal width (cm)  petal length (cm)  petal width (cm)  \\\n",
       "0                5.1               3.5                1.4               0.2   \n",
       "1                4.9               3.0                1.4               0.2   \n",
       "2                4.7               3.2                1.3               0.2   \n",
       "3                4.6               3.1                1.5               0.2   \n",
       "4                5.0               3.6                1.4               0.2   \n",
       "\n",
       "   target species  \n",
       "0     0.0  setosa  \n",
       "1     0.0  setosa  \n",
       "2     0.0  setosa  \n",
       "3     0.0  setosa  \n",
       "4     0.0  setosa  "
      ]
     },
     "metadata": {},
     "output_type": "display_data"
    }
   ],
   "source": [
    "# Imprimir el tamaño de la tabla de datos\n",
    "print('Tamaño de la tabla de datos:', iris_df.shape)\n",
    "\n",
    "# Desplegar los primeros datos\n",
    "display(iris_df.head())"
   ]
  },
  {
   "cell_type": "markdown",
   "metadata": {},
   "source": [
    "El método *info*( ) del dataframe, ofrece información general de la estructura de los datos:"
   ]
  },
  {
   "cell_type": "code",
   "execution_count": 4,
   "metadata": {},
   "outputs": [
    {
     "name": "stdout",
     "output_type": "stream",
     "text": [
      "<class 'pandas.core.frame.DataFrame'>\n",
      "RangeIndex: 150 entries, 0 to 149\n",
      "Data columns (total 6 columns):\n",
      "sepal length (cm)    150 non-null float64\n",
      "sepal width (cm)     150 non-null float64\n",
      "petal length (cm)    150 non-null float64\n",
      "petal width (cm)     150 non-null float64\n",
      "target               150 non-null float64\n",
      "species              150 non-null category\n",
      "dtypes: category(1), float64(5)\n",
      "memory usage: 6.2 KB\n",
      "None\n"
     ]
    }
   ],
   "source": [
    "# Infromación general del dataframe\n",
    "print(iris_df.info())"
   ]
  },
  {
   "cell_type": "markdown",
   "metadata": {},
   "source": [
    "### <span style=\"color:#313f9e; font-weight: bold;\">Exploración de los datos:</span>\n",
    "\n",
    "El método *describe*( ) del dataframe, ofrecen una primera forma de exporación de los datos a través de estadísticas básicas (el parámetro *include='all'* especifica incluir todos los campos y no sólo los numéricos, que es la opción por defecto):"
   ]
  },
  {
   "cell_type": "code",
   "execution_count": 5,
   "metadata": {
    "scrolled": false
   },
   "outputs": [
    {
     "data": {
      "text/html": [
       "<div>\n",
       "<style scoped>\n",
       "    .dataframe tbody tr th:only-of-type {\n",
       "        vertical-align: middle;\n",
       "    }\n",
       "\n",
       "    .dataframe tbody tr th {\n",
       "        vertical-align: top;\n",
       "    }\n",
       "\n",
       "    .dataframe thead th {\n",
       "        text-align: right;\n",
       "    }\n",
       "</style>\n",
       "<table border=\"1\" class=\"dataframe\">\n",
       "  <thead>\n",
       "    <tr style=\"text-align: right;\">\n",
       "      <th></th>\n",
       "      <th>sepal length (cm)</th>\n",
       "      <th>sepal width (cm)</th>\n",
       "      <th>petal length (cm)</th>\n",
       "      <th>petal width (cm)</th>\n",
       "      <th>target</th>\n",
       "      <th>species</th>\n",
       "    </tr>\n",
       "  </thead>\n",
       "  <tbody>\n",
       "    <tr>\n",
       "      <th>count</th>\n",
       "      <td>150.000000</td>\n",
       "      <td>150.000000</td>\n",
       "      <td>150.000000</td>\n",
       "      <td>150.000000</td>\n",
       "      <td>150.000000</td>\n",
       "      <td>150</td>\n",
       "    </tr>\n",
       "    <tr>\n",
       "      <th>unique</th>\n",
       "      <td>NaN</td>\n",
       "      <td>NaN</td>\n",
       "      <td>NaN</td>\n",
       "      <td>NaN</td>\n",
       "      <td>NaN</td>\n",
       "      <td>3</td>\n",
       "    </tr>\n",
       "    <tr>\n",
       "      <th>top</th>\n",
       "      <td>NaN</td>\n",
       "      <td>NaN</td>\n",
       "      <td>NaN</td>\n",
       "      <td>NaN</td>\n",
       "      <td>NaN</td>\n",
       "      <td>virginica</td>\n",
       "    </tr>\n",
       "    <tr>\n",
       "      <th>freq</th>\n",
       "      <td>NaN</td>\n",
       "      <td>NaN</td>\n",
       "      <td>NaN</td>\n",
       "      <td>NaN</td>\n",
       "      <td>NaN</td>\n",
       "      <td>50</td>\n",
       "    </tr>\n",
       "    <tr>\n",
       "      <th>mean</th>\n",
       "      <td>5.843333</td>\n",
       "      <td>3.057333</td>\n",
       "      <td>3.758000</td>\n",
       "      <td>1.199333</td>\n",
       "      <td>1.000000</td>\n",
       "      <td>NaN</td>\n",
       "    </tr>\n",
       "    <tr>\n",
       "      <th>std</th>\n",
       "      <td>0.828066</td>\n",
       "      <td>0.435866</td>\n",
       "      <td>1.765298</td>\n",
       "      <td>0.762238</td>\n",
       "      <td>0.819232</td>\n",
       "      <td>NaN</td>\n",
       "    </tr>\n",
       "    <tr>\n",
       "      <th>min</th>\n",
       "      <td>4.300000</td>\n",
       "      <td>2.000000</td>\n",
       "      <td>1.000000</td>\n",
       "      <td>0.100000</td>\n",
       "      <td>0.000000</td>\n",
       "      <td>NaN</td>\n",
       "    </tr>\n",
       "    <tr>\n",
       "      <th>25%</th>\n",
       "      <td>5.100000</td>\n",
       "      <td>2.800000</td>\n",
       "      <td>1.600000</td>\n",
       "      <td>0.300000</td>\n",
       "      <td>0.000000</td>\n",
       "      <td>NaN</td>\n",
       "    </tr>\n",
       "    <tr>\n",
       "      <th>50%</th>\n",
       "      <td>5.800000</td>\n",
       "      <td>3.000000</td>\n",
       "      <td>4.350000</td>\n",
       "      <td>1.300000</td>\n",
       "      <td>1.000000</td>\n",
       "      <td>NaN</td>\n",
       "    </tr>\n",
       "    <tr>\n",
       "      <th>75%</th>\n",
       "      <td>6.400000</td>\n",
       "      <td>3.300000</td>\n",
       "      <td>5.100000</td>\n",
       "      <td>1.800000</td>\n",
       "      <td>2.000000</td>\n",
       "      <td>NaN</td>\n",
       "    </tr>\n",
       "    <tr>\n",
       "      <th>max</th>\n",
       "      <td>7.900000</td>\n",
       "      <td>4.400000</td>\n",
       "      <td>6.900000</td>\n",
       "      <td>2.500000</td>\n",
       "      <td>2.000000</td>\n",
       "      <td>NaN</td>\n",
       "    </tr>\n",
       "  </tbody>\n",
       "</table>\n",
       "</div>"
      ],
      "text/plain": [
       "        sepal length (cm)  sepal width (cm)  petal length (cm)  \\\n",
       "count          150.000000        150.000000         150.000000   \n",
       "unique                NaN               NaN                NaN   \n",
       "top                   NaN               NaN                NaN   \n",
       "freq                  NaN               NaN                NaN   \n",
       "mean             5.843333          3.057333           3.758000   \n",
       "std              0.828066          0.435866           1.765298   \n",
       "min              4.300000          2.000000           1.000000   \n",
       "25%              5.100000          2.800000           1.600000   \n",
       "50%              5.800000          3.000000           4.350000   \n",
       "75%              6.400000          3.300000           5.100000   \n",
       "max              7.900000          4.400000           6.900000   \n",
       "\n",
       "        petal width (cm)      target    species  \n",
       "count         150.000000  150.000000        150  \n",
       "unique               NaN         NaN          3  \n",
       "top                  NaN         NaN  virginica  \n",
       "freq                 NaN         NaN         50  \n",
       "mean            1.199333    1.000000        NaN  \n",
       "std             0.762238    0.819232        NaN  \n",
       "min             0.100000    0.000000        NaN  \n",
       "25%             0.300000    0.000000        NaN  \n",
       "50%             1.300000    1.000000        NaN  \n",
       "75%             1.800000    2.000000        NaN  \n",
       "max             2.500000    2.000000        NaN  "
      ]
     },
     "metadata": {},
     "output_type": "display_data"
    }
   ],
   "source": [
    "# Estadísticas básicas de los datos\n",
    "display(iris_df.describe(include='all'))"
   ]
  },
  {
   "cell_type": "markdown",
   "metadata": {},
   "source": [
    "La tabla anterior, obtenida mediante el método [*Pandas.DataFrame.describe*()](https://pandas.pydata.org/pandas-docs/stable/reference/api/pandas.DataFrame.describe.html), muestra 11 campos de estadísticas. \n",
    "\n",
    "* El primer campo, **count** proporciona el número de datos no nulos en cada columna, en este caso, 150 para todos los campos, lo que indica que no hay valores faltantes en los datos. \n",
    "\n",
    "* Los campos **unique**, **top** y **freq** describen estadísticas en valores categóricos; **unique** proporciona la cantidad de etiquetas diferentes utilizadas, **top** describe la etiqueta más empleada (la moda) y **freq** la frecuencia de esa etiqueta. Si varias etiquetas coinciden en la máxima frecuencia (como en este caso) se escoge una de ellas de forma arbitraria.\n",
    "\n",
    "* Los campos restantes describen estadisticas de valores numéricos: la media (**mean**), la desviación estándar (**std**), el valor mínimo (**min**), el percentil bajo (**25%** por *default*), la mediana o percetil 50 (**50%**), el percentil alto (**75%** por default) y el valor máximo (**max**). Los percentiles utilizados pueden cambiarse, especificando el parámetro *percentiles* (el percentil 50 siempre se muestra por ser tencencia central)."
   ]
  },
  {
   "cell_type": "code",
   "execution_count": 6,
   "metadata": {
    "scrolled": false
   },
   "outputs": [
    {
     "data": {
      "text/html": [
       "<div>\n",
       "<style scoped>\n",
       "    .dataframe tbody tr th:only-of-type {\n",
       "        vertical-align: middle;\n",
       "    }\n",
       "\n",
       "    .dataframe tbody tr th {\n",
       "        vertical-align: top;\n",
       "    }\n",
       "\n",
       "    .dataframe thead th {\n",
       "        text-align: right;\n",
       "    }\n",
       "</style>\n",
       "<table border=\"1\" class=\"dataframe\">\n",
       "  <thead>\n",
       "    <tr style=\"text-align: right;\">\n",
       "      <th></th>\n",
       "      <th>sepal length (cm)</th>\n",
       "      <th>sepal width (cm)</th>\n",
       "      <th>petal length (cm)</th>\n",
       "      <th>petal width (cm)</th>\n",
       "      <th>target</th>\n",
       "    </tr>\n",
       "  </thead>\n",
       "  <tbody>\n",
       "    <tr>\n",
       "      <th>count</th>\n",
       "      <td>150.000000</td>\n",
       "      <td>150.000000</td>\n",
       "      <td>150.000000</td>\n",
       "      <td>150.000000</td>\n",
       "      <td>150.000000</td>\n",
       "    </tr>\n",
       "    <tr>\n",
       "      <th>mean</th>\n",
       "      <td>5.843333</td>\n",
       "      <td>3.057333</td>\n",
       "      <td>3.758000</td>\n",
       "      <td>1.199333</td>\n",
       "      <td>1.000000</td>\n",
       "    </tr>\n",
       "    <tr>\n",
       "      <th>std</th>\n",
       "      <td>0.828066</td>\n",
       "      <td>0.435866</td>\n",
       "      <td>1.765298</td>\n",
       "      <td>0.762238</td>\n",
       "      <td>0.819232</td>\n",
       "    </tr>\n",
       "    <tr>\n",
       "      <th>min</th>\n",
       "      <td>4.300000</td>\n",
       "      <td>2.000000</td>\n",
       "      <td>1.000000</td>\n",
       "      <td>0.100000</td>\n",
       "      <td>0.000000</td>\n",
       "    </tr>\n",
       "    <tr>\n",
       "      <th>10%</th>\n",
       "      <td>4.800000</td>\n",
       "      <td>2.500000</td>\n",
       "      <td>1.400000</td>\n",
       "      <td>0.200000</td>\n",
       "      <td>0.000000</td>\n",
       "    </tr>\n",
       "    <tr>\n",
       "      <th>20%</th>\n",
       "      <td>5.000000</td>\n",
       "      <td>2.700000</td>\n",
       "      <td>1.500000</td>\n",
       "      <td>0.200000</td>\n",
       "      <td>0.000000</td>\n",
       "    </tr>\n",
       "    <tr>\n",
       "      <th>30%</th>\n",
       "      <td>5.270000</td>\n",
       "      <td>2.800000</td>\n",
       "      <td>1.700000</td>\n",
       "      <td>0.400000</td>\n",
       "      <td>0.000000</td>\n",
       "    </tr>\n",
       "    <tr>\n",
       "      <th>50%</th>\n",
       "      <td>5.800000</td>\n",
       "      <td>3.000000</td>\n",
       "      <td>4.350000</td>\n",
       "      <td>1.300000</td>\n",
       "      <td>1.000000</td>\n",
       "    </tr>\n",
       "    <tr>\n",
       "      <th>max</th>\n",
       "      <td>7.900000</td>\n",
       "      <td>4.400000</td>\n",
       "      <td>6.900000</td>\n",
       "      <td>2.500000</td>\n",
       "      <td>2.000000</td>\n",
       "    </tr>\n",
       "  </tbody>\n",
       "</table>\n",
       "</div>"
      ],
      "text/plain": [
       "       sepal length (cm)  sepal width (cm)  petal length (cm)  \\\n",
       "count         150.000000        150.000000         150.000000   \n",
       "mean            5.843333          3.057333           3.758000   \n",
       "std             0.828066          0.435866           1.765298   \n",
       "min             4.300000          2.000000           1.000000   \n",
       "10%             4.800000          2.500000           1.400000   \n",
       "20%             5.000000          2.700000           1.500000   \n",
       "30%             5.270000          2.800000           1.700000   \n",
       "50%             5.800000          3.000000           4.350000   \n",
       "max             7.900000          4.400000           6.900000   \n",
       "\n",
       "       petal width (cm)      target  \n",
       "count        150.000000  150.000000  \n",
       "mean           1.199333    1.000000  \n",
       "std            0.762238    0.819232  \n",
       "min            0.100000    0.000000  \n",
       "10%            0.200000    0.000000  \n",
       "20%            0.200000    0.000000  \n",
       "30%            0.400000    0.000000  \n",
       "50%            1.300000    1.000000  \n",
       "max            2.500000    2.000000  "
      ]
     },
     "metadata": {},
     "output_type": "display_data"
    }
   ],
   "source": [
    "# Estadísticas básicas de los datos, especificando percentiles\n",
    "display(iris_df.describe(percentiles=[.1, .2, .3]))"
   ]
  },
  {
   "cell_type": "markdown",
   "metadata": {},
   "source": [
    "Otro tipo de procedimientos que permite la biblioteca *Pandas* es agrupar los valores en base a alguna restricción y mostrar las agrupaciones. Por ejemplo, agrupando por la etiqueta '*species*' se puede reordenar los datos en base a esta variable y obtener el conteo de la distribución de las clases:"
   ]
  },
  {
   "cell_type": "code",
   "execution_count": 7,
   "metadata": {},
   "outputs": [
    {
     "data": {
      "text/html": [
       "<div>\n",
       "<style scoped>\n",
       "    .dataframe tbody tr th:only-of-type {\n",
       "        vertical-align: middle;\n",
       "    }\n",
       "\n",
       "    .dataframe tbody tr th {\n",
       "        vertical-align: top;\n",
       "    }\n",
       "\n",
       "    .dataframe thead th {\n",
       "        text-align: right;\n",
       "    }\n",
       "</style>\n",
       "<table border=\"1\" class=\"dataframe\">\n",
       "  <thead>\n",
       "    <tr style=\"text-align: right;\">\n",
       "      <th></th>\n",
       "      <th>sepal length (cm)</th>\n",
       "      <th>sepal width (cm)</th>\n",
       "      <th>petal length (cm)</th>\n",
       "      <th>petal width (cm)</th>\n",
       "      <th>target</th>\n",
       "      <th>species</th>\n",
       "    </tr>\n",
       "  </thead>\n",
       "  <tbody>\n",
       "    <tr>\n",
       "      <th>0</th>\n",
       "      <td>5.1</td>\n",
       "      <td>3.5</td>\n",
       "      <td>1.4</td>\n",
       "      <td>0.2</td>\n",
       "      <td>0.0</td>\n",
       "      <td>setosa</td>\n",
       "    </tr>\n",
       "    <tr>\n",
       "      <th>1</th>\n",
       "      <td>4.9</td>\n",
       "      <td>3.0</td>\n",
       "      <td>1.4</td>\n",
       "      <td>0.2</td>\n",
       "      <td>0.0</td>\n",
       "      <td>setosa</td>\n",
       "    </tr>\n",
       "    <tr>\n",
       "      <th>2</th>\n",
       "      <td>4.7</td>\n",
       "      <td>3.2</td>\n",
       "      <td>1.3</td>\n",
       "      <td>0.2</td>\n",
       "      <td>0.0</td>\n",
       "      <td>setosa</td>\n",
       "    </tr>\n",
       "    <tr>\n",
       "      <th>3</th>\n",
       "      <td>4.6</td>\n",
       "      <td>3.1</td>\n",
       "      <td>1.5</td>\n",
       "      <td>0.2</td>\n",
       "      <td>0.0</td>\n",
       "      <td>setosa</td>\n",
       "    </tr>\n",
       "    <tr>\n",
       "      <th>4</th>\n",
       "      <td>5.0</td>\n",
       "      <td>3.6</td>\n",
       "      <td>1.4</td>\n",
       "      <td>0.2</td>\n",
       "      <td>0.0</td>\n",
       "      <td>setosa</td>\n",
       "    </tr>\n",
       "    <tr>\n",
       "      <th>50</th>\n",
       "      <td>7.0</td>\n",
       "      <td>3.2</td>\n",
       "      <td>4.7</td>\n",
       "      <td>1.4</td>\n",
       "      <td>1.0</td>\n",
       "      <td>versicolor</td>\n",
       "    </tr>\n",
       "    <tr>\n",
       "      <th>51</th>\n",
       "      <td>6.4</td>\n",
       "      <td>3.2</td>\n",
       "      <td>4.5</td>\n",
       "      <td>1.5</td>\n",
       "      <td>1.0</td>\n",
       "      <td>versicolor</td>\n",
       "    </tr>\n",
       "    <tr>\n",
       "      <th>52</th>\n",
       "      <td>6.9</td>\n",
       "      <td>3.1</td>\n",
       "      <td>4.9</td>\n",
       "      <td>1.5</td>\n",
       "      <td>1.0</td>\n",
       "      <td>versicolor</td>\n",
       "    </tr>\n",
       "    <tr>\n",
       "      <th>53</th>\n",
       "      <td>5.5</td>\n",
       "      <td>2.3</td>\n",
       "      <td>4.0</td>\n",
       "      <td>1.3</td>\n",
       "      <td>1.0</td>\n",
       "      <td>versicolor</td>\n",
       "    </tr>\n",
       "    <tr>\n",
       "      <th>54</th>\n",
       "      <td>6.5</td>\n",
       "      <td>2.8</td>\n",
       "      <td>4.6</td>\n",
       "      <td>1.5</td>\n",
       "      <td>1.0</td>\n",
       "      <td>versicolor</td>\n",
       "    </tr>\n",
       "    <tr>\n",
       "      <th>100</th>\n",
       "      <td>6.3</td>\n",
       "      <td>3.3</td>\n",
       "      <td>6.0</td>\n",
       "      <td>2.5</td>\n",
       "      <td>2.0</td>\n",
       "      <td>virginica</td>\n",
       "    </tr>\n",
       "    <tr>\n",
       "      <th>101</th>\n",
       "      <td>5.8</td>\n",
       "      <td>2.7</td>\n",
       "      <td>5.1</td>\n",
       "      <td>1.9</td>\n",
       "      <td>2.0</td>\n",
       "      <td>virginica</td>\n",
       "    </tr>\n",
       "    <tr>\n",
       "      <th>102</th>\n",
       "      <td>7.1</td>\n",
       "      <td>3.0</td>\n",
       "      <td>5.9</td>\n",
       "      <td>2.1</td>\n",
       "      <td>2.0</td>\n",
       "      <td>virginica</td>\n",
       "    </tr>\n",
       "    <tr>\n",
       "      <th>103</th>\n",
       "      <td>6.3</td>\n",
       "      <td>2.9</td>\n",
       "      <td>5.6</td>\n",
       "      <td>1.8</td>\n",
       "      <td>2.0</td>\n",
       "      <td>virginica</td>\n",
       "    </tr>\n",
       "    <tr>\n",
       "      <th>104</th>\n",
       "      <td>6.5</td>\n",
       "      <td>3.0</td>\n",
       "      <td>5.8</td>\n",
       "      <td>2.2</td>\n",
       "      <td>2.0</td>\n",
       "      <td>virginica</td>\n",
       "    </tr>\n",
       "  </tbody>\n",
       "</table>\n",
       "</div>"
      ],
      "text/plain": [
       "     sepal length (cm)  sepal width (cm)  petal length (cm)  petal width (cm)  \\\n",
       "0                  5.1               3.5                1.4               0.2   \n",
       "1                  4.9               3.0                1.4               0.2   \n",
       "2                  4.7               3.2                1.3               0.2   \n",
       "3                  4.6               3.1                1.5               0.2   \n",
       "4                  5.0               3.6                1.4               0.2   \n",
       "50                 7.0               3.2                4.7               1.4   \n",
       "51                 6.4               3.2                4.5               1.5   \n",
       "52                 6.9               3.1                4.9               1.5   \n",
       "53                 5.5               2.3                4.0               1.3   \n",
       "54                 6.5               2.8                4.6               1.5   \n",
       "100                6.3               3.3                6.0               2.5   \n",
       "101                5.8               2.7                5.1               1.9   \n",
       "102                7.1               3.0                5.9               2.1   \n",
       "103                6.3               2.9                5.6               1.8   \n",
       "104                6.5               3.0                5.8               2.2   \n",
       "\n",
       "     target     species  \n",
       "0       0.0      setosa  \n",
       "1       0.0      setosa  \n",
       "2       0.0      setosa  \n",
       "3       0.0      setosa  \n",
       "4       0.0      setosa  \n",
       "50      1.0  versicolor  \n",
       "51      1.0  versicolor  \n",
       "52      1.0  versicolor  \n",
       "53      1.0  versicolor  \n",
       "54      1.0  versicolor  \n",
       "100     2.0   virginica  \n",
       "101     2.0   virginica  \n",
       "102     2.0   virginica  \n",
       "103     2.0   virginica  \n",
       "104     2.0   virginica  "
      ]
     },
     "metadata": {},
     "output_type": "display_data"
    },
    {
     "name": "stdout",
     "output_type": "stream",
     "text": [
      "species\n",
      "setosa        50\n",
      "versicolor    50\n",
      "virginica     50\n",
      "dtype: int64\n"
     ]
    }
   ],
   "source": [
    "# Distribución de clases\n",
    "display(iris_df.groupby('species').head())\n",
    "print(iris_df.groupby('species').size())"
   ]
  },
  {
   "cell_type": "markdown",
   "metadata": {},
   "source": [
    "Los histogramas son una buena manera de analizar la ditribución de valores en los datos. En Python, Pandas permite generar directamente los histogramas de un conjunto de columnas:"
   ]
  },
  {
   "cell_type": "code",
   "execution_count": 8,
   "metadata": {},
   "outputs": [
    {
     "data": {
      "image/png": "[encoded data removed]",
      "text/plain": [
       "<Figure size 720x432 with 4 Axes>"
      ]
     },
     "metadata": {
      "needs_background": "light"
     },
     "output_type": "display_data"
    }
   ],
   "source": [
    "# Conservar sólo las variables independientes\n",
    "data_df = iris_df.drop(['target', 'species'], axis=1)\n",
    "\n",
    "# Despliegue de histogramas de las variables independientes\n",
    "data_df.hist(edgecolor='black', linewidth=1.2, figsize=(10,6), bins=20)\n",
    "plt.show()"
   ]
  },
  {
   "cell_type": "markdown",
   "metadata": {},
   "source": [
    "En las gráficas para las mediciones de los pétalos se observan distribuciones claramente separadas, que pudieran sugerir una separación entre clases. Esto se refuerza si se contabilizan las muestras en ambos grupos (utilizando el método *numpy.hist*):"
   ]
  },
  {
   "cell_type": "code",
   "execution_count": 9,
   "metadata": {},
   "outputs": [
    {
     "name": "stdout",
     "output_type": "stream",
     "text": [
      "petal length (cm) [ 4 33 11  2  0  0  1  2  3  5 12 14 12 17  6 12  7  4  2  3]\n",
      "petal width (cm) [34  7  7  1  1  0  0  7  3  5 21 12  4  2 12 11  6  3  8  6]\n"
     ]
    }
   ],
   "source": [
    "# Frecuencias en 'petal length (cm)'\n",
    "count, _ = np.histogram(data_df['petal length (cm)'], bins=20)\n",
    "print('petal length (cm)', count)\n",
    "\n",
    "# Frecuencias en 'petal width (cm)'\n",
    "count, _ = np.histogram(data_df['petal width (cm)'], bins=20)\n",
    "print('petal width (cm)', count)"
   ]
  },
  {
   "cell_type": "markdown",
   "metadata": {},
   "source": [
    "La bibioteca *Seaborn* ofrece métodos de visualización de gráficos estadísticos. El método *pairplot* genera gráficas por pares de variables, lo cual permite analizar la relación entre las diferentes características descritas en el DataFrame. Sobre la diagonal se grafican histogramas para la variable en la columna (y renglón) de acuerdo al esquema utilizado como color. En la siguiente celda se emplea el valor de clase ('*species*'), de manera que los histogramas representan la distribución de valores por clase:"
   ]
  },
  {
   "cell_type": "code",
   "execution_count": 10,
   "metadata": {},
   "outputs": [
    {
     "data": {
      "image/png": "[encoded data removed]",
      "text/plain": [
       "<Figure size 806.85x720 with 20 Axes>"
      ]
     },
     "metadata": {
      "needs_background": "light"
     },
     "output_type": "display_data"
    }
   ],
   "source": [
    "# Relaciones entre parejas de características por especie\n",
    "sns.pairplot(iris_df.drop(['target'], axis=1), hue=\"species\")\n",
    "plt.show()"
   ]
  },
  {
   "cell_type": "markdown",
   "metadata": {},
   "source": [
    "Estas gráficas confirman un buen grado de separabilidad de las clases, particularmente entre *iris setosa* y las otras dos variedades; la separabilidad entre *iris versicolor* e *iris virgínica* es menos clara. También destaca un comportamiento cercano a lineal entre la longitud y la anchura del pétalo."
   ]
  },
  {
   "cell_type": "markdown",
   "metadata": {},
   "source": [
    "### <span style=\"color:#313f9e; font-weight: bold;\">Verificación de la calidad de los datos:</span>\n",
    "\n",
    "Si bien los datos de las flores iris están disponibles en diversas bibliotecas y repositorios, en la mayoría de estas fuentes se presentan tres errores con respecto a los datos presentados por Fisher en su artículo, los cuales ocurren en los datos 35 y 38. Los valores correctos son:\n",
    "\n",
    "<img src=\"images/iris_errors.png\" width=\"300px\">\n",
    "\n",
    "... mientras que en la base de datos tenemos:"
   ]
  },
  {
   "cell_type": "code",
   "execution_count": 11,
   "metadata": {},
   "outputs": [
    {
     "name": "stdout",
     "output_type": "stream",
     "text": [
      "[[4.9 3.1 1.5 0.2]\n",
      " [5.  3.2 1.2 0.2]\n",
      " [5.5 3.5 1.3 0.2]\n",
      " [4.9 3.6 1.4 0.1]]\n"
     ]
    }
   ],
   "source": [
    "# Imprimir los datos 35-38... como ejemplo\n",
    "print(iris_data['data'][34:38])"
   ]
  },
  {
   "cell_type": "markdown",
   "metadata": {},
   "source": [
    "Estos errores, són fáciles de corregir, ya sea a través de un archivo propio corregido o modificando los valores del DataFrame."
   ]
  },
  {
   "cell_type": "markdown",
   "metadata": {},
   "source": [
    "<hr style=\"border-width: 3px;\">\n",
    " \n",
    "## Conjunto de datos de diabetes de los indios Pima\n",
    "\n",
    "\n",
    "### <span style=\"color:#313f9e; font-weight: bold;\">Recolección inicial de datos:</span>\n",
    "<div style=\"margin-top: 6px; border: 1px solid #cfcfcf; padding: 8px 12px; border-radius:2px; background-color:#f7f7f7; \">\n",
    "\n",
    "Los datos que emplearemos en este proyecto están disponibles en el sitio de Kaggle ([Datos](shttps://www.kaggle.com/stackoverflow/stack-overflow-2018-developer-survey/data)). Estos datos consisten en las respuestas proporcionadas por usuarios de Stack Overflow a la encuesta de desarrolladores. \n",
    "</div>\n",
    "\n",
    "### <span style=\"color:#313f9e; font-weight: bold;\">Descripción de los datos:</span>\n",
    "\n",
    "Los datos del *Pima Indians Diabetes Dataset* fueron generados por el *National Institute of Diabetes and Digestive and Kidney Diseases* de los Estados Unidos y donado al *UCI Machine Learning Repository* de la Universidad de California en Irvine.  El objetivo del conjunto de datos es determinar si un paciente tiene diabetes o no, en base a un conjunto de mediciones. Todos los individuos registrados son mujeres de 21 años o más. \n",
    "\n",
    "En las celdas a continuación se leen los datos desde un archivo separado por comas ('cvs') y se hace una descripción preliminar:"
   ]
  },
  {
   "cell_type": "code",
   "execution_count": 12,
   "metadata": {},
   "outputs": [],
   "source": [
    "# Variable auxiliar para acceder los datos\n",
    "path = 'Data sets/Pima Indian Data Set/'"
   ]
  },
  {
   "cell_type": "code",
   "execution_count": 13,
   "metadata": {},
   "outputs": [
    {
     "name": "stdout",
     "output_type": "stream",
     "text": [
      "Tamaño de la tabla de datos: (768, 9)\n"
     ]
    },
    {
     "data": {
      "text/html": [
       "<div>\n",
       "<style scoped>\n",
       "    .dataframe tbody tr th:only-of-type {\n",
       "        vertical-align: middle;\n",
       "    }\n",
       "\n",
       "    .dataframe tbody tr th {\n",
       "        vertical-align: top;\n",
       "    }\n",
       "\n",
       "    .dataframe thead th {\n",
       "        text-align: right;\n",
       "    }\n",
       "</style>\n",
       "<table border=\"1\" class=\"dataframe\">\n",
       "  <thead>\n",
       "    <tr style=\"text-align: right;\">\n",
       "      <th></th>\n",
       "      <th>emb</th>\n",
       "      <th>gl2h</th>\n",
       "      <th>pad</th>\n",
       "      <th>ept</th>\n",
       "      <th>is2h</th>\n",
       "      <th>imc</th>\n",
       "      <th>fpd</th>\n",
       "      <th>edad</th>\n",
       "      <th>class</th>\n",
       "    </tr>\n",
       "  </thead>\n",
       "  <tbody>\n",
       "    <tr>\n",
       "      <th>0</th>\n",
       "      <td>6</td>\n",
       "      <td>148</td>\n",
       "      <td>72</td>\n",
       "      <td>35</td>\n",
       "      <td>0</td>\n",
       "      <td>33.6</td>\n",
       "      <td>0.627</td>\n",
       "      <td>50</td>\n",
       "      <td>1</td>\n",
       "    </tr>\n",
       "    <tr>\n",
       "      <th>1</th>\n",
       "      <td>1</td>\n",
       "      <td>85</td>\n",
       "      <td>66</td>\n",
       "      <td>29</td>\n",
       "      <td>0</td>\n",
       "      <td>26.6</td>\n",
       "      <td>0.351</td>\n",
       "      <td>31</td>\n",
       "      <td>0</td>\n",
       "    </tr>\n",
       "    <tr>\n",
       "      <th>2</th>\n",
       "      <td>8</td>\n",
       "      <td>183</td>\n",
       "      <td>64</td>\n",
       "      <td>0</td>\n",
       "      <td>0</td>\n",
       "      <td>23.3</td>\n",
       "      <td>0.672</td>\n",
       "      <td>32</td>\n",
       "      <td>1</td>\n",
       "    </tr>\n",
       "    <tr>\n",
       "      <th>3</th>\n",
       "      <td>1</td>\n",
       "      <td>89</td>\n",
       "      <td>66</td>\n",
       "      <td>23</td>\n",
       "      <td>94</td>\n",
       "      <td>28.1</td>\n",
       "      <td>0.167</td>\n",
       "      <td>21</td>\n",
       "      <td>0</td>\n",
       "    </tr>\n",
       "    <tr>\n",
       "      <th>4</th>\n",
       "      <td>0</td>\n",
       "      <td>137</td>\n",
       "      <td>40</td>\n",
       "      <td>35</td>\n",
       "      <td>168</td>\n",
       "      <td>43.1</td>\n",
       "      <td>2.288</td>\n",
       "      <td>33</td>\n",
       "      <td>1</td>\n",
       "    </tr>\n",
       "  </tbody>\n",
       "</table>\n",
       "</div>"
      ],
      "text/plain": [
       "   emb  gl2h  pad  ept  is2h   imc    fpd  edad  class\n",
       "0    6   148   72   35     0  33.6  0.627    50      1\n",
       "1    1    85   66   29     0  26.6  0.351    31      0\n",
       "2    8   183   64    0     0  23.3  0.672    32      1\n",
       "3    1    89   66   23    94  28.1  0.167    21      0\n",
       "4    0   137   40   35   168  43.1  2.288    33      1"
      ]
     },
     "metadata": {},
     "output_type": "display_data"
    },
    {
     "name": "stdout",
     "output_type": "stream",
     "text": [
      "<class 'pandas.core.frame.DataFrame'>\n",
      "RangeIndex: 768 entries, 0 to 767\n",
      "Data columns (total 9 columns):\n",
      "emb      768 non-null int64\n",
      "gl2h     768 non-null int64\n",
      "pad      768 non-null int64\n",
      "ept      768 non-null int64\n",
      "is2h     768 non-null int64\n",
      "imc      768 non-null float64\n",
      "fpd      768 non-null float64\n",
      "edad     768 non-null int64\n",
      "class    768 non-null int64\n",
      "dtypes: float64(2), int64(7)\n",
      "memory usage: 54.1 KB\n",
      "None\n"
     ]
    }
   ],
   "source": [
    "# Leer los datos con nombres adecuados para las columnas\n",
    "pidd_df = pd.read_csv(path + \"pima-indians-diabetes.data\", \n",
    "                 names = ['emb', 'gl2h', 'pad', 'ept', 'is2h', 'imc', 'fpd', 'edad', 'class'])\n",
    "\n",
    "# Imprimir el tamaño de la tabla de datos\n",
    "print('Tamaño de la tabla de datos:', pidd_df.shape)\n",
    "\n",
    "# Desplegar los primeros datos\n",
    "display(pidd_df.head())\n",
    "\n",
    "# Infromación general del dataframe\n",
    "print(pidd_df.info())"
   ]
  },
  {
   "cell_type": "markdown",
   "metadata": {},
   "source": [
    "Estos datos representan las siguientes variables:\n",
    "\n",
    "<table style=\"width: 75%\">\n",
    "  <col width=\"8%\">\n",
    "  <col width=\"60%\">\n",
    "  <tr>\n",
    "    <th style=\"text-align: left; font-size: 110%; border: 1px solid #555;\">Etiqueta</th>\n",
    "    <th style=\"text-align: left; font-size: 110%; border: 1px solid #555;\">Atributos de predicción</th>\n",
    "  </tr>\n",
    "  <tr>\n",
    "    <td style=\"text-align: left; border: 1px solid #555;\">$emb$</td>\n",
    "    <td style=\"text-align: left; border: 1px solid #555;\">Número de embarazos</td>\n",
    "  </tr>\n",
    "  <tr>\n",
    "    <td style=\"text-align: left; border: 1px solid #555;\">$gl2h$</td>\n",
    "    <td style=\"text-align: left; border: 1px solid #555;\">Concentración plasmática de glucosa a las 2 horas de una prueba de tolerancia a la glucosa oral</td>\n",
    "  </tr>\n",
    "  <tr>\n",
    "    <td style=\"text-align: left; border: 1px solid #555;\">$pad$</td>\n",
    "    <td style=\"text-align: left; border: 1px solid #555;\">Presión diastólica de la sangre</td>\n",
    "  </tr>\n",
    "  <tr>\n",
    "    <td style=\"text-align: left; border: 1px solid #555;\">$ept$</td>\n",
    "    <td style=\"text-align: left; border: 1px solid #555;\">Espesor de la piel del tríceps</td>\n",
    "  </tr>\n",
    "  <tr>\n",
    "    <td style=\"text-align: left; border: 1px solid #555;\">$is2h$</td>\n",
    "    <td style=\"text-align: left; border: 1px solid #555;\">Cantidad de insulina en suero en dos horas</td>\n",
    "  </tr>\n",
    "  <tr>\n",
    "    <td style=\"text-align: left; border: 1px solid #555;\">$imc$</td>\n",
    "    <td style=\"text-align: left; border: 1px solid #555;\">Índice de Masa Corporal</td>\n",
    "  </tr>\n",
    "  <tr>\n",
    "    <td style=\"text-align: left; border: 1px solid #555;\">$fpd$</td>\n",
    "    <td style=\"text-align: left; border: 1px solid #555;\">Antecedentes Familiares</td>\n",
    "  </tr>\n",
    "  <tr>\n",
    "    <td style=\"text-align: left; border: 1px solid #555;\">$edad$</td>\n",
    "    <td style=\"text-align: left; border: 1px solid #555;\">Edad</td>\n",
    "  </tr>\n",
    "  <tr>\n",
    "    <td style=\"text-align: left; border: 1px solid #555;\">$clase$</td>\n",
    "    <td style=\"text-align: left; border: 1px solid #555;\">Estado diabético</td>\n",
    "  </tr>\n",
    "</table>"
   ]
  },
  {
   "cell_type": "markdown",
   "metadata": {},
   "source": [
    "### <span style=\"color:#313f9e; font-weight: bold;\">Exploración de los datos:</span>"
   ]
  },
  {
   "cell_type": "code",
   "execution_count": 14,
   "metadata": {},
   "outputs": [
    {
     "data": {
      "text/html": [
       "<div>\n",
       "<style scoped>\n",
       "    .dataframe tbody tr th:only-of-type {\n",
       "        vertical-align: middle;\n",
       "    }\n",
       "\n",
       "    .dataframe tbody tr th {\n",
       "        vertical-align: top;\n",
       "    }\n",
       "\n",
       "    .dataframe thead th {\n",
       "        text-align: right;\n",
       "    }\n",
       "</style>\n",
       "<table border=\"1\" class=\"dataframe\">\n",
       "  <thead>\n",
       "    <tr style=\"text-align: right;\">\n",
       "      <th></th>\n",
       "      <th>emb</th>\n",
       "      <th>gl2h</th>\n",
       "      <th>pad</th>\n",
       "      <th>ept</th>\n",
       "      <th>is2h</th>\n",
       "      <th>imc</th>\n",
       "      <th>fpd</th>\n",
       "      <th>edad</th>\n",
       "      <th>class</th>\n",
       "    </tr>\n",
       "  </thead>\n",
       "  <tbody>\n",
       "    <tr>\n",
       "      <th>count</th>\n",
       "      <td>768.000</td>\n",
       "      <td>768.000</td>\n",
       "      <td>768.000</td>\n",
       "      <td>768.000</td>\n",
       "      <td>768.000</td>\n",
       "      <td>768.000</td>\n",
       "      <td>768.000</td>\n",
       "      <td>768.000</td>\n",
       "      <td>768.000</td>\n",
       "    </tr>\n",
       "    <tr>\n",
       "      <th>mean</th>\n",
       "      <td>3.845</td>\n",
       "      <td>120.895</td>\n",
       "      <td>69.105</td>\n",
       "      <td>20.536</td>\n",
       "      <td>79.799</td>\n",
       "      <td>31.993</td>\n",
       "      <td>0.472</td>\n",
       "      <td>33.241</td>\n",
       "      <td>0.349</td>\n",
       "    </tr>\n",
       "    <tr>\n",
       "      <th>std</th>\n",
       "      <td>3.370</td>\n",
       "      <td>31.973</td>\n",
       "      <td>19.356</td>\n",
       "      <td>15.952</td>\n",
       "      <td>115.244</td>\n",
       "      <td>7.884</td>\n",
       "      <td>0.331</td>\n",
       "      <td>11.760</td>\n",
       "      <td>0.477</td>\n",
       "    </tr>\n",
       "    <tr>\n",
       "      <th>min</th>\n",
       "      <td>0.000</td>\n",
       "      <td>0.000</td>\n",
       "      <td>0.000</td>\n",
       "      <td>0.000</td>\n",
       "      <td>0.000</td>\n",
       "      <td>0.000</td>\n",
       "      <td>0.078</td>\n",
       "      <td>21.000</td>\n",
       "      <td>0.000</td>\n",
       "    </tr>\n",
       "    <tr>\n",
       "      <th>25%</th>\n",
       "      <td>1.000</td>\n",
       "      <td>99.000</td>\n",
       "      <td>62.000</td>\n",
       "      <td>0.000</td>\n",
       "      <td>0.000</td>\n",
       "      <td>27.300</td>\n",
       "      <td>0.244</td>\n",
       "      <td>24.000</td>\n",
       "      <td>0.000</td>\n",
       "    </tr>\n",
       "    <tr>\n",
       "      <th>50%</th>\n",
       "      <td>3.000</td>\n",
       "      <td>117.000</td>\n",
       "      <td>72.000</td>\n",
       "      <td>23.000</td>\n",
       "      <td>30.500</td>\n",
       "      <td>32.000</td>\n",
       "      <td>0.372</td>\n",
       "      <td>29.000</td>\n",
       "      <td>0.000</td>\n",
       "    </tr>\n",
       "    <tr>\n",
       "      <th>75%</th>\n",
       "      <td>6.000</td>\n",
       "      <td>140.250</td>\n",
       "      <td>80.000</td>\n",
       "      <td>32.000</td>\n",
       "      <td>127.250</td>\n",
       "      <td>36.600</td>\n",
       "      <td>0.626</td>\n",
       "      <td>41.000</td>\n",
       "      <td>1.000</td>\n",
       "    </tr>\n",
       "    <tr>\n",
       "      <th>max</th>\n",
       "      <td>17.000</td>\n",
       "      <td>199.000</td>\n",
       "      <td>122.000</td>\n",
       "      <td>99.000</td>\n",
       "      <td>846.000</td>\n",
       "      <td>67.100</td>\n",
       "      <td>2.420</td>\n",
       "      <td>81.000</td>\n",
       "      <td>1.000</td>\n",
       "    </tr>\n",
       "  </tbody>\n",
       "</table>\n",
       "</div>"
      ],
      "text/plain": [
       "          emb    gl2h     pad     ept    is2h     imc     fpd    edad   class\n",
       "count 768.000 768.000 768.000 768.000 768.000 768.000 768.000 768.000 768.000\n",
       "mean    3.845 120.895  69.105  20.536  79.799  31.993   0.472  33.241   0.349\n",
       "std     3.370  31.973  19.356  15.952 115.244   7.884   0.331  11.760   0.477\n",
       "min     0.000   0.000   0.000   0.000   0.000   0.000   0.078  21.000   0.000\n",
       "25%     1.000  99.000  62.000   0.000   0.000  27.300   0.244  24.000   0.000\n",
       "50%     3.000 117.000  72.000  23.000  30.500  32.000   0.372  29.000   0.000\n",
       "75%     6.000 140.250  80.000  32.000 127.250  36.600   0.626  41.000   1.000\n",
       "max    17.000 199.000 122.000  99.000 846.000  67.100   2.420  81.000   1.000"
      ]
     },
     "metadata": {},
     "output_type": "display_data"
    }
   ],
   "source": [
    "# Fijar la precisión del despliegue\n",
    "pd.set_option('display.float_format', lambda x: '%.3f' % x)\n",
    "\n",
    "# Estadísticas básicas de los datos\n",
    "display(pidd_df.describe())"
   ]
  },
  {
   "cell_type": "code",
   "execution_count": 15,
   "metadata": {},
   "outputs": [
    {
     "data": {
      "image/png": "[encoded data removed]",
      "text/plain": [
       "<Figure size 720x648 with 9 Axes>"
      ]
     },
     "metadata": {
      "needs_background": "light"
     },
     "output_type": "display_data"
    }
   ],
   "source": [
    "# Despliegue de histogramas de las variables independientes\n",
    "pidd_df.hist(edgecolor='black', linewidth=1.2, figsize=(10,9), bins=20)\n",
    "plt.show()"
   ]
  },
  {
   "cell_type": "markdown",
   "metadata": {},
   "source": [
    "### <span style=\"color:#313f9e; font-weight: bold;\">Verificación de la calidad de los datos:</span>\n",
    "\n",
    "#### Identificación de valores faltantes \n",
    "\n",
    "Una de las principales fuentes de falta de calidad en los datos es la presencia de valores faltantes. Entendemos por valores faltantes aquellos valores para una variable no especificados. El problema de valores faltantes es un problema muy frecuente al tratar de realizar cualquier tarea de análisis de datos y puede deberse a diversas razones: \n",
    "\n",
    "* Fallas en los mecanismos de medición (sensores defectuosos, por ejemplo) \n",
    "* Integración de conjuntos de datos no bien coordinados (mediciones con diferentes ciclos, por ejemplo) \n",
    "* Variables nuevas no consideradas o no disponibles originalmente \n",
    "* Respuestas omitidas intencionalmente por la fuente \n",
    "\n",
    "![](images/missingData.png)\n",
    "![ ](images/blank.png)\n",
    "\n",
    "La omisión de valores en el conjunto de datos puede tener diversos efectos y diferentes grados de impacto. En términos generales, se suelen considerar los siguientes grados de impacto, dependiendo del porcentaje de valores faltantes (*dumb rules*):\n",
    "* Menos de 1%: Trivial (no relevante)\n",
    "* 1-5%: Manejable\n",
    "* 5-15%: Manejable mediante métodos sofisticados\n",
    "* Más de 15%: Crítico, con impacto severo en cualquier tipo de interpretación\n",
    "\n",
    "Sin embargo, en muchos casos, incluso detectar los valores faltantes es un problema. Observemos el valor mínimo de cada variable en la descripción del Dataframe:"
   ]
  },
  {
   "cell_type": "code",
   "execution_count": 16,
   "metadata": {},
   "outputs": [
    {
     "name": "stdout",
     "output_type": "stream",
     "text": [
      "emb      0.000\n",
      "gl2h     0.000\n",
      "pad      0.000\n",
      "ept      0.000\n",
      "is2h     0.000\n",
      "imc      0.000\n",
      "fpd      0.078\n",
      "edad    21.000\n",
      "class    0.000\n",
      "dtype: float64\n"
     ]
    }
   ],
   "source": [
    "# Valores mínimos de las variables en el conjunto de datos\n",
    "print(pidd_df.min())"
   ]
  },
  {
   "cell_type": "markdown",
   "metadata": {},
   "source": [
    "De acuerdo a este análisis, las variables '*emb*', '*gl2h*', '*pad*', '*ept*', '*is2h*', '*imc*' y '*class*' tienen un valor mínimo de 0. Este valor tiene sentido en el caso de las variables *emb*', '*is2h*' y '*class*', pero no así en los datos restantes. Por lo tanto, en esos casos los valores en cero representan valores faltantes. \n",
    "\n",
    "Para poder evaluar la cantidad de valores faltantes en los datos, se puede asignar una etiqueta *NaN* a los valores considerados como valores 'faltantes': "
   ]
  },
  {
   "cell_type": "code",
   "execution_count": 17,
   "metadata": {},
   "outputs": [
    {
     "name": "stdout",
     "output_type": "stream",
     "text": [
      "          emb    gl2h     pad     ept    is2h     imc     fpd    edad   class\n",
      "count 768.000 763.000 733.000 541.000 768.000 757.000 768.000 768.000 768.000\n",
      "mean    3.845 121.687  72.405  29.153  79.799  32.457   0.472  33.241   0.349\n",
      "std     3.370  30.536  12.382  10.477 115.244   6.925   0.331  11.760   0.477\n",
      "min     0.000  44.000  24.000   7.000   0.000  18.200   0.078  21.000   0.000\n",
      "25%     1.000  99.000  64.000  22.000   0.000  27.500   0.244  24.000   0.000\n",
      "50%     3.000 117.000  72.000  29.000  30.500  32.300   0.372  29.000   0.000\n",
      "75%     6.000 141.000  80.000  36.000 127.250  36.600   0.626  41.000   1.000\n",
      "max    17.000 199.000 122.000  99.000 846.000  67.100   2.420  81.000   1.000\n"
     ]
    }
   ],
   "source": [
    "# Etiquetar los valores 0 en la columna 'ept' como NaN\n",
    "pidd_df.loc[pidd_df['gl2h'] == 0,'gl2h'] = np.nan\n",
    "pidd_df.loc[pidd_df['gl2h'] == 0,'gl2h'] = np.nan\n",
    "pidd_df.loc[pidd_df['pad'] == 0,'pad'] = np.nan\n",
    "pidd_df.loc[pidd_df['ept'] == 0,'ept'] = np.nan\n",
    "pidd_df.loc[pidd_df['imc'] == 0,'imc'] = np.nan\n",
    "\n",
    "print(pidd_df.describe())"
   ]
  },
  {
   "cell_type": "markdown",
   "metadata": {},
   "source": [
    "A partir de estos datos, podemos calcular el porcentaje de valores faltantes en cada columna de datos:"
   ]
  },
  {
   "cell_type": "code",
   "execution_count": 18,
   "metadata": {},
   "outputs": [
    {
     "name": "stdout",
     "output_type": "stream",
     "text": [
      "emb      0.000\n",
      "gl2h     0.651\n",
      "pad      4.557\n",
      "ept     29.557\n",
      "is2h     0.000\n",
      "imc      1.432\n",
      "fpd      0.000\n",
      "edad     0.000\n",
      "class    0.000\n",
      "dtype: float64\n"
     ]
    }
   ],
   "source": [
    "print(100 * (1 - pidd_df.count()/pidd_df.shape[0]))"
   ]
  },
  {
   "cell_type": "markdown",
   "metadata": {},
   "source": [
    "Como puede observarse, la variable '*ept*' presenta una gran cantidad de valores faltantes. En las otras variables con valores en cero, no podemos saber si los ceros corresponden a valores faltantes o son valores auténticos."
   ]
  },
  {
   "cell_type": "code",
   "execution_count": null,
   "metadata": {},
   "outputs": [],
   "source": []
  }
 ],
 "metadata": {
  "celltoolbar": "Raw Cell Format",
  "kernelspec": {
   "display_name": "Python 3",
   "language": "python",
   "name": "python3"
  },
  "language_info": {
   "codemirror_mode": {
    "name": "ipython",
    "version": 3
   },
   "file_extension": ".py",
   "mimetype": "text/x-python",
   "name": "python",
   "nbconvert_exporter": "python",
   "pygments_lexer": "ipython3",
   "version": "3.7.2"
  }
 },
 "nbformat": 4,
 "nbformat_minor": 1
}
